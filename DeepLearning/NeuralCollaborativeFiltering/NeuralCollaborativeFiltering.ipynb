{
 "cells": [
  {
   "cell_type": "code",
   "execution_count": 1,
   "id": "6e5d8c3c",
   "metadata": {},
   "outputs": [
    {
     "name": "stdout",
     "output_type": "stream",
     "text": [
      "Requirement already satisfied: torch in c:\\users\\vish8\\anaconda3\\lib\\site-packages (2.5.1+cu118)\n",
      "Requirement already satisfied: filelock in c:\\users\\vish8\\anaconda3\\lib\\site-packages (from torch) (3.13.1)\n",
      "Requirement already satisfied: typing-extensions>=4.8.0 in c:\\users\\vish8\\anaconda3\\lib\\site-packages (from torch) (4.11.0)\n",
      "Requirement already satisfied: networkx in c:\\users\\vish8\\anaconda3\\lib\\site-packages (from torch) (3.3)\n",
      "Requirement already satisfied: jinja2 in c:\\users\\vish8\\anaconda3\\lib\\site-packages (from torch) (3.1.4)\n",
      "Requirement already satisfied: fsspec in c:\\users\\vish8\\anaconda3\\lib\\site-packages (from torch) (2024.6.1)\n",
      "Requirement already satisfied: setuptools in c:\\users\\vish8\\anaconda3\\lib\\site-packages (from torch) (75.7.0)\n",
      "Requirement already satisfied: sympy==1.13.1 in c:\\users\\vish8\\anaconda3\\lib\\site-packages (from torch) (1.13.1)\n",
      "Requirement already satisfied: mpmath<1.4,>=1.1.0 in c:\\users\\vish8\\anaconda3\\lib\\site-packages (from sympy==1.13.1->torch) (1.3.0)\n",
      "Requirement already satisfied: MarkupSafe>=2.0 in c:\\users\\vish8\\anaconda3\\lib\\site-packages (from jinja2->torch) (2.1.3)\n",
      "Requirement already satisfied: LibRecommender in c:\\users\\vish8\\anaconda3\\lib\\site-packages (1.5.1)\n",
      "Requirement already satisfied: gensim>=4.0.0 in c:\\users\\vish8\\anaconda3\\lib\\site-packages (from LibRecommender) (4.3.3)\n",
      "Requirement already satisfied: tqdm in c:\\users\\vish8\\anaconda3\\lib\\site-packages (from LibRecommender) (4.66.5)\n",
      "Requirement already satisfied: numpy<2.0,>=1.18.5 in c:\\users\\vish8\\anaconda3\\lib\\site-packages (from gensim>=4.0.0->LibRecommender) (1.26.4)\n",
      "Requirement already satisfied: scipy<1.14.0,>=1.7.0 in c:\\users\\vish8\\anaconda3\\lib\\site-packages (from gensim>=4.0.0->LibRecommender) (1.13.1)\n",
      "Requirement already satisfied: smart-open>=1.8.1 in c:\\users\\vish8\\anaconda3\\lib\\site-packages (from gensim>=4.0.0->LibRecommender) (5.2.1)\n",
      "Requirement already satisfied: colorama in c:\\users\\vish8\\anaconda3\\lib\\site-packages (from tqdm->LibRecommender) (0.4.6)\n"
     ]
    }
   ],
   "source": [
    "!pip install torch\n",
    "!pip install LibRecommender"
   ]
  },
  {
   "cell_type": "code",
   "execution_count": 2,
   "id": "bcdeedc9",
   "metadata": {},
   "outputs": [
    {
     "name": "stdout",
     "output_type": "stream",
     "text": [
      "WARNING:tensorflow:From c:\\Users\\vish8\\anaconda3\\Lib\\site-packages\\libreco\\tfops\\version.py:4: The name tf.disable_v2_behavior is deprecated. Please use tf.compat.v1.disable_v2_behavior instead.\n",
      "\n",
      "WARNING:tensorflow:From c:\\Users\\vish8\\anaconda3\\Lib\\site-packages\\tensorflow\\python\\compat\\v2_compat.py:98: disable_resource_variables (from tensorflow.python.ops.resource_variables_toggle) is deprecated and will be removed in a future version.\n",
      "Instructions for updating:\n",
      "non-resource variables are not supported in the long term\n"
     ]
    }
   ],
   "source": [
    "import numpy as np\n",
    "import pandas as pd\n",
    "from libreco.data import random_split, DatasetPure\n",
    "from libreco.algorithms import NCF\n",
    "from libreco.evaluation import evaluate"
   ]
  },
  {
   "cell_type": "code",
   "execution_count": 4,
   "id": "e8db0523",
   "metadata": {},
   "outputs": [],
   "source": [
    "ratings = pd.read_csv(r\"C:\\Users\\vish8\\OneDrive\\Desktop\\Cursos\\RecommendationSystem\\RecommendationSystemsWithMLandDL\\ml-latest-small\\ml-latest-small\\ratings.csv\")\n",
    "ratings.columns = [\"user\", \"item\", \"label\", \"time\"]\n",
    "\n",
    "movies = pd.read_csv(r\"C:\\Users\\vish8\\OneDrive\\Desktop\\Cursos\\RecommendationSystem\\RecommendationSystemsWithMLandDL\\ml-latest-small\\ml-latest-small\\movies.csv\")\n",
    "movies.columns = [\"movieID\", \"Title\", \"Genres\"]"
   ]
  },
  {
   "cell_type": "code",
   "execution_count": 5,
   "id": "1c99772c",
   "metadata": {},
   "outputs": [],
   "source": [
    "training_set, evaluation_set, testing_set = random_split(ratings, multi_ratios=[0.8, 0.1, 0.1])"
   ]
  },
  {
   "cell_type": "code",
   "execution_count": 6,
   "id": "eebfd381",
   "metadata": {},
   "outputs": [],
   "source": [
    "# Convert training, evaluation, and test data into format required by LibRecommender (\"Pure\" collobarative filtering data)\n",
    "training_set, data_info = DatasetPure.build_trainset(training_set)\n",
    "evaluation_set = DatasetPure.build_evalset(evaluation_set)\n",
    "testing_set = DatasetPure.build_testset(testing_set)"
   ]
  },
  {
   "cell_type": "code",
   "execution_count": 7,
   "id": "aa05aae8",
   "metadata": {},
   "outputs": [],
   "source": [
    "ncf = NCF(\n",
    "    task=\"rating\",\n",
    "    data_info=data_info\n",
    ")\n",
    "\n",
    "#Defaults used for hyperparams, see https://librecommender.readthedocs.io/en/latest/api/algorithms/ncf.html"
   ]
  },
  {
   "cell_type": "code",
   "execution_count": 8,
   "id": "449a62f2",
   "metadata": {},
   "outputs": [
    {
     "name": "stdout",
     "output_type": "stream",
     "text": [
      "Training start time: \u001b[35m2025-03-17 14:31:52\u001b[0m\n"
     ]
    },
    {
     "ename": "AttributeError",
     "evalue": "`batch_normalization` is not available with Keras 3.",
     "output_type": "error",
     "traceback": [
      "\u001b[1;31m---------------------------------------------------------------------------\u001b[0m",
      "\u001b[1;31mAttributeError\u001b[0m                            Traceback (most recent call last)",
      "Cell \u001b[1;32mIn[8], line 3\u001b[0m\n\u001b[0;32m      1\u001b[0m \u001b[38;5;66;03m# Train it\u001b[39;00m\n\u001b[1;32m----> 3\u001b[0m ncf\u001b[38;5;241m.\u001b[39mfit(\n\u001b[0;32m      4\u001b[0m     training_set,\n\u001b[0;32m      5\u001b[0m     neg_sampling\u001b[38;5;241m=\u001b[39m\u001b[38;5;28;01mFalse\u001b[39;00m, \u001b[38;5;66;03m#False for explicit ratings, true for implicit, positive-only data\u001b[39;00m\n\u001b[0;32m      6\u001b[0m     verbose\u001b[38;5;241m=\u001b[39m\u001b[38;5;241m2\u001b[39m, \u001b[38;5;66;03m# Print evaluation metrics\u001b[39;00m\n\u001b[0;32m      7\u001b[0m     eval_data\u001b[38;5;241m=\u001b[39mevaluation_set,\n\u001b[0;32m      8\u001b[0m     metrics\u001b[38;5;241m=\u001b[39m[\u001b[38;5;124m\"\u001b[39m\u001b[38;5;124mloss\u001b[39m\u001b[38;5;124m\"\u001b[39m],\n\u001b[0;32m      9\u001b[0m )\n",
      "File \u001b[1;32mc:\\Users\\vish8\\anaconda3\\Lib\\site-packages\\libreco\\bases\\tf_base.py:128\u001b[0m, in \u001b[0;36mTfBase.fit\u001b[1;34m(self, train_data, neg_sampling, verbose, shuffle, eval_data, metrics, k, eval_batch_size, eval_user_num, num_workers)\u001b[0m\n\u001b[0;32m    126\u001b[0m \u001b[38;5;28mself\u001b[39m\u001b[38;5;241m.\u001b[39mshow_start_time()\n\u001b[0;32m    127\u001b[0m \u001b[38;5;28;01mif\u001b[39;00m \u001b[38;5;129;01mnot\u001b[39;00m \u001b[38;5;28mself\u001b[39m\u001b[38;5;241m.\u001b[39mmodel_built:\n\u001b[1;32m--> 128\u001b[0m     \u001b[38;5;28mself\u001b[39m\u001b[38;5;241m.\u001b[39mbuild_model()\n\u001b[0;32m    129\u001b[0m     \u001b[38;5;28mself\u001b[39m\u001b[38;5;241m.\u001b[39mmodel_built \u001b[38;5;241m=\u001b[39m \u001b[38;5;28;01mTrue\u001b[39;00m\n\u001b[0;32m    130\u001b[0m \u001b[38;5;28;01mif\u001b[39;00m \u001b[38;5;28mself\u001b[39m\u001b[38;5;241m.\u001b[39mtrainer \u001b[38;5;129;01mis\u001b[39;00m \u001b[38;5;28;01mNone\u001b[39;00m:\n",
      "File \u001b[1;32mc:\\Users\\vish8\\anaconda3\\Lib\\site-packages\\libreco\\algorithms\\ncf.py:138\u001b[0m, in \u001b[0;36mNCF.build_model\u001b[1;34m(self)\u001b[0m\n\u001b[0;32m    136\u001b[0m gmf_layer \u001b[38;5;241m=\u001b[39m tf\u001b[38;5;241m.\u001b[39mmultiply(user_embeds, item_embeds)\n\u001b[0;32m    137\u001b[0m mlp_input \u001b[38;5;241m=\u001b[39m tf\u001b[38;5;241m.\u001b[39mconcat([user_embeds, item_embeds], axis\u001b[38;5;241m=\u001b[39m\u001b[38;5;241m1\u001b[39m)\n\u001b[1;32m--> 138\u001b[0m mlp_layer \u001b[38;5;241m=\u001b[39m dense_nn(\n\u001b[0;32m    139\u001b[0m     mlp_input,\n\u001b[0;32m    140\u001b[0m     \u001b[38;5;28mself\u001b[39m\u001b[38;5;241m.\u001b[39mhidden_units,\n\u001b[0;32m    141\u001b[0m     use_bn\u001b[38;5;241m=\u001b[39m\u001b[38;5;28mself\u001b[39m\u001b[38;5;241m.\u001b[39muse_bn,\n\u001b[0;32m    142\u001b[0m     dropout_rate\u001b[38;5;241m=\u001b[39m\u001b[38;5;28mself\u001b[39m\u001b[38;5;241m.\u001b[39mdropout_rate,\n\u001b[0;32m    143\u001b[0m     is_training\u001b[38;5;241m=\u001b[39m\u001b[38;5;28mself\u001b[39m\u001b[38;5;241m.\u001b[39mis_training,\n\u001b[0;32m    144\u001b[0m )\n\u001b[0;32m    145\u001b[0m concat_layer \u001b[38;5;241m=\u001b[39m tf\u001b[38;5;241m.\u001b[39mconcat([gmf_layer, mlp_layer], axis\u001b[38;5;241m=\u001b[39m\u001b[38;5;241m1\u001b[39m)\n\u001b[0;32m    146\u001b[0m \u001b[38;5;28mself\u001b[39m\u001b[38;5;241m.\u001b[39moutput \u001b[38;5;241m=\u001b[39m tf\u001b[38;5;241m.\u001b[39mreshape(tf_dense(units\u001b[38;5;241m=\u001b[39m\u001b[38;5;241m1\u001b[39m)(concat_layer), [\u001b[38;5;241m-\u001b[39m\u001b[38;5;241m1\u001b[39m])\n",
      "File \u001b[1;32mc:\\Users\\vish8\\anaconda3\\Lib\\site-packages\\libreco\\layers\\dense.py:31\u001b[0m, in \u001b[0;36mdense_nn\u001b[1;34m(net, hidden_units, activation, use_bn, bn_after_activation, dropout_rate, is_training, reuse_layer, name)\u001b[0m\n\u001b[0;32m     29\u001b[0m \u001b[38;5;28;01mwith\u001b[39;00m tf\u001b[38;5;241m.\u001b[39mvariable_scope(name, reuse\u001b[38;5;241m=\u001b[39mreuse):\n\u001b[0;32m     30\u001b[0m     \u001b[38;5;28;01mif\u001b[39;00m use_bn:\n\u001b[1;32m---> 31\u001b[0m         net \u001b[38;5;241m=\u001b[39m tf\u001b[38;5;241m.\u001b[39mlayers\u001b[38;5;241m.\u001b[39mbatch_normalization(net, training\u001b[38;5;241m=\u001b[39mis_training)\n\u001b[0;32m     32\u001b[0m     \u001b[38;5;28;01mfor\u001b[39;00m i, units \u001b[38;5;129;01min\u001b[39;00m \u001b[38;5;28menumerate\u001b[39m(hidden_units, start\u001b[38;5;241m=\u001b[39m\u001b[38;5;241m1\u001b[39m):\n\u001b[0;32m     33\u001b[0m         layer_name \u001b[38;5;241m=\u001b[39m name \u001b[38;5;241m+\u001b[39m \u001b[38;5;124m\"\u001b[39m\u001b[38;5;124m_layer\u001b[39m\u001b[38;5;124m\"\u001b[39m \u001b[38;5;241m+\u001b[39m \u001b[38;5;28mstr\u001b[39m(i)\n",
      "File \u001b[1;32mc:\\Users\\vish8\\anaconda3\\Lib\\site-packages\\tensorflow\\python\\util\\lazy_loader.py:207\u001b[0m, in \u001b[0;36mKerasLazyLoader.__getattr__\u001b[1;34m(self, item)\u001b[0m\n\u001b[0;32m    200\u001b[0m     \u001b[38;5;28;01mraise\u001b[39;00m \u001b[38;5;167;01mAttributeError\u001b[39;00m(\n\u001b[0;32m    201\u001b[0m         \u001b[38;5;124m\"\u001b[39m\u001b[38;5;124m`tf.compat.v2.keras` is not available with Keras 3. Just use \u001b[39m\u001b[38;5;124m\"\u001b[39m\n\u001b[0;32m    202\u001b[0m         \u001b[38;5;124m\"\u001b[39m\u001b[38;5;124m`import keras` instead.\u001b[39m\u001b[38;5;124m\"\u001b[39m\n\u001b[0;32m    203\u001b[0m     )\n\u001b[0;32m    204\u001b[0m   \u001b[38;5;28;01melif\u001b[39;00m \u001b[38;5;28mself\u001b[39m\u001b[38;5;241m.\u001b[39m_tfll_submodule \u001b[38;5;129;01mand\u001b[39;00m \u001b[38;5;28mself\u001b[39m\u001b[38;5;241m.\u001b[39m_tfll_submodule\u001b[38;5;241m.\u001b[39mstartswith(\n\u001b[0;32m    205\u001b[0m       \u001b[38;5;124m\"\u001b[39m\u001b[38;5;124m__internal__.legacy.\u001b[39m\u001b[38;5;124m\"\u001b[39m\n\u001b[0;32m    206\u001b[0m   ):\n\u001b[1;32m--> 207\u001b[0m     \u001b[38;5;28;01mraise\u001b[39;00m \u001b[38;5;167;01mAttributeError\u001b[39;00m(\n\u001b[0;32m    208\u001b[0m         \u001b[38;5;124mf\u001b[39m\u001b[38;5;124m\"\u001b[39m\u001b[38;5;124m`\u001b[39m\u001b[38;5;132;01m{\u001b[39;00mitem\u001b[38;5;132;01m}\u001b[39;00m\u001b[38;5;124m` is not available with Keras 3.\u001b[39m\u001b[38;5;124m\"\u001b[39m\n\u001b[0;32m    209\u001b[0m     )\n\u001b[0;32m    210\u001b[0m module \u001b[38;5;241m=\u001b[39m \u001b[38;5;28mself\u001b[39m\u001b[38;5;241m.\u001b[39m_load()\n\u001b[0;32m    211\u001b[0m \u001b[38;5;28;01mreturn\u001b[39;00m \u001b[38;5;28mgetattr\u001b[39m(module, item)\n",
      "\u001b[1;31mAttributeError\u001b[0m: `batch_normalization` is not available with Keras 3."
     ]
    }
   ],
   "source": [
    "# Train it\n",
    "\n",
    "ncf.fit(\n",
    "    training_set,\n",
    "    neg_sampling=False, #False for explicit ratings, true for implicit, positive-only data\n",
    "    verbose=2, # Print evaluation metrics\n",
    "    eval_data=evaluation_set,\n",
    "    metrics=[\"loss\"],\n",
    ")"
   ]
  },
  {
   "cell_type": "code",
   "execution_count": 8,
   "id": "85f0422c",
   "metadata": {},
   "outputs": [
    {
     "name": "stderr",
     "output_type": "stream",
     "text": [
      "eval_pointwise: 100%|███████████████████████████| 2/2 [00:00<00:00, 250.07it/s]\n"
     ]
    },
    {
     "data": {
      "text/plain": [
       "{'loss': 1.032931}"
      ]
     },
     "execution_count": 8,
     "metadata": {},
     "output_type": "execute_result"
    }
   ],
   "source": [
    "# Test it\n",
    "\n",
    "evaluate(\n",
    "    model=ncf,\n",
    "    data=testing_set,\n",
    "    neg_sampling=False,\n",
    "    metrics=[\"loss\"], #for implicit, might use precision or recall\n",
    ")"
   ]
  },
  {
   "cell_type": "code",
   "execution_count": 9,
   "id": "9595b39f",
   "metadata": {},
   "outputs": [
    {
     "name": "stdout",
     "output_type": "stream",
     "text": [
      "2.5 30    Dangerous Minds (1995)\n",
      "Name: Title, dtype: object\n",
      "3.0 833    Dumbo (1941)\n",
      "Name: Title, dtype: object\n",
      "3.0 859    Sleepers (1996)\n",
      "Name: Title, dtype: object\n",
      "2.0 906    Escape from New York (1981)\n",
      "Name: Title, dtype: object\n",
      "4.0 931    Cinema Paradiso (Nuovo cinema Paradiso) (1989)\n",
      "Name: Title, dtype: object\n",
      "2.0 1017    Deer Hunter, The (1978)\n",
      "Name: Title, dtype: object\n",
      "2.0 1041    Ben-Hur (1959)\n",
      "Name: Title, dtype: object\n",
      "2.0 1047    Gandhi (1982)\n",
      "Name: Title, dtype: object\n",
      "3.5 1083    Dracula (Bram Stoker's Dracula) (1992)\n",
      "Name: Title, dtype: object\n",
      "2.0 1087    Cape Fear (1991)\n",
      "Name: Title, dtype: object\n",
      "2.5 1111    Star Trek: The Motion Picture (1979)\n",
      "Name: Title, dtype: object\n",
      "1.0 1140    Beavis and Butt-Head Do America (1996)\n",
      "Name: Title, dtype: object\n",
      "4.0 1515    French Connection, The (1971)\n",
      "Name: Title, dtype: object\n",
      "4.0 1665    Tron (1982)\n",
      "Name: Title, dtype: object\n",
      "3.0 1708    Gods Must Be Crazy, The (1980)\n",
      "Name: Title, dtype: object\n",
      "2.0 1743    Willow (1988)\n",
      "Name: Title, dtype: object\n",
      "2.0 1815    Antz (1998)\n",
      "Name: Title, dtype: object\n",
      "2.5 1962    Fly, The (1986)\n",
      "Name: Title, dtype: object\n",
      "1.0 2380    Time Bandits (1981)\n",
      "Name: Title, dtype: object\n",
      "3.0 2925    Blazing Saddles (1974)\n",
      "Name: Title, dtype: object\n"
     ]
    }
   ],
   "source": [
    "# Print out every movie user 1 rated\n",
    "filtered_rows = ratings[ratings.user == 1]\n",
    "\n",
    "for index, row in filtered_rows.iterrows():\n",
    "    rating = row['label']\n",
    "    movie = movies[movies.movieID == row['item']]\n",
    "    movieTitle = movie['Title']\n",
    "    print(rating, movieTitle)"
   ]
  },
  {
   "cell_type": "code",
   "execution_count": 10,
   "id": "dc40dae0",
   "metadata": {},
   "outputs": [
    {
     "data": {
      "text/plain": [
       "array([2.7327979], dtype=float32)"
      ]
     },
     "execution_count": 10,
     "metadata": {},
     "output_type": "execute_result"
    }
   ],
   "source": [
    "# Predict rating of user 1 (who seems to like artsy dramas) of movie 1 (Toy Story)\n",
    "ncf.predict(user=1, item=1)"
   ]
  },
  {
   "cell_type": "code",
   "execution_count": 11,
   "id": "2bebb5e1",
   "metadata": {},
   "outputs": [
    {
     "name": "stdout",
     "output_type": "stream",
     "text": [
      "{1: array([ 2023, 27773,  1856,   481, 54259,  7155,  1147,  3896,  3452,\n",
      "       27611], dtype=int64)}\n"
     ]
    }
   ],
   "source": [
    "# recommend 10 items for user 1\n",
    "recs = ncf.recommend_user(user=1, n_rec=10)\n",
    "print (recs)"
   ]
  },
  {
   "cell_type": "code",
   "execution_count": 12,
   "id": "3937bb64",
   "metadata": {},
   "outputs": [
    {
     "name": "stdout",
     "output_type": "stream",
     "text": [
      "1585    Godfather: Part III, The (1990)\n",
      "Name: Title, dtype: object\n",
      "5941    Old Boy (2003)\n",
      "Name: Title, dtype: object\n",
      "1435    Kurt & Courtney (1998)\n",
      "Name: Title, dtype: object\n",
      "428    Kalifornia (1993)\n",
      "Name: Title, dtype: object\n",
      "6741    Stardust (2007)\n",
      "Name: Title, dtype: object\n",
      "5028    Calendar Girls (2003)\n",
      "Name: Title, dtype: object\n",
      "915    When We Were Kings (1996)\n",
      "Name: Title, dtype: object\n",
      "3112    Way of the Gun, The (2000)\n",
      "Name: Title, dtype: object\n",
      "2756    Romeo Must Die (2000)\n",
      "Name: Title, dtype: object\n",
      "5919    Battlestar Galactica (2003)\n",
      "Name: Title, dtype: object\n"
     ]
    }
   ],
   "source": [
    "# Print what these are\n",
    "myRecs = recs[1]\n",
    "for rec in myRecs:\n",
    "    print(movies[movies.movieID == rec].Title)"
   ]
  },
  {
   "cell_type": "code",
   "execution_count": null,
   "id": "026a8569",
   "metadata": {},
   "outputs": [],
   "source": []
  }
 ],
 "metadata": {
  "kernelspec": {
   "display_name": "base",
   "language": "python",
   "name": "python3"
  },
  "language_info": {
   "codemirror_mode": {
    "name": "ipython",
    "version": 3
   },
   "file_extension": ".py",
   "mimetype": "text/x-python",
   "name": "python",
   "nbconvert_exporter": "python",
   "pygments_lexer": "ipython3",
   "version": "3.12.7"
  }
 },
 "nbformat": 4,
 "nbformat_minor": 5
}
